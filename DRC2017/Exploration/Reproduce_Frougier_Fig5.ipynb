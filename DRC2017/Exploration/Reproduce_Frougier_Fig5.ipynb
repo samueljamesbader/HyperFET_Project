{
 "cells": [
  {
   "cell_type": "markdown",
   "metadata": {},
   "source": [
    "This notebook reproduces (to rough visual accuracy), Figure 5 of [Frougier 2015]( https://doi.org/10.1109/VLSIT.2016.7573445)"
   ]
  },
  {
   "cell_type": "code",
   "execution_count": 66,
   "metadata": {
    "collapsed": false
   },
   "outputs": [],
   "source": [
    "%matplotlib inline\n",
    "from ipywidgets import interact, FloatSlider, HTML\n",
    "from IPython.display import display\n",
    "import matplotlib.pyplot as plt\n",
    "import matplotlib\n",
    "matplotlib.rc('font',size=16)\n",
    "import numpy as np\n",
    "import warnings\n",
    "\n",
    "\n",
    "from hyperfet.devices import SCMOSFET,VO2,HyperFET\n",
    "import hyperfet.approximations as appr\n",
    "from hyperfet.references import si"
   ]
  },
  {
   "cell_type": "markdown",
   "metadata": {},
   "source": [
    "# To capture Fig 2"
   ]
  },
  {
   "cell_type": "code",
   "execution_count": 488,
   "metadata": {
    "collapsed": true
   },
   "outputs": [],
   "source": [
    "vo2_params={\n",
    "    \"rho_m\":si(\"3e-2 ohm cm\"),\n",
    "    \"rho_i\":si(\".2 ohm cm\"),\n",
    "    \"J_MIT\":si(\"1.37uA/(1um*.035um)\"),\n",
    "    \"J_IMT\":si(\".41 uA/(1um*.035um)\"),\n",
    "    \"v_met\":0,\n",
    "    \"L\":si(\"70um\"),\n",
    "    \"W\":si(\"70um\"),\n",
    "    \"T\":si(\"235nm\")\n",
    "}\n",
    "vo2=VO2(**vo2_params)"
   ]
  },
  {
   "cell_type": "code",
   "execution_count": 489,
   "metadata": {
    "collapsed": false
   },
   "outputs": [
    {
     "data": {
      "text/plain": [
       "11714285.714285713"
      ]
     },
     "execution_count": 489,
     "metadata": {},
     "output_type": "execute_result"
    }
   ],
   "source": [
    "vo2_params['J_IMT']"
   ]
  },
  {
   "cell_type": "code",
   "execution_count": 490,
   "metadata": {
    "collapsed": false
   },
   "outputs": [
    {
     "data": {
      "text/plain": [
       "12158054.711246202"
      ]
     },
     "execution_count": 490,
     "metadata": {},
     "output_type": "execute_result"
    }
   ],
   "source": [
    "2e-4/(.235e-6*70e-6)"
   ]
  },
  {
   "cell_type": "code",
   "execution_count": 491,
   "metadata": {
    "collapsed": false
   },
   "outputs": [
    {
     "data": {
      "text/plain": [
       "0.00019269999999999997"
      ]
     },
     "execution_count": 491,
     "metadata": {},
     "output_type": "execute_result"
    }
   ],
   "source": [
    "vo2.I_IMT"
   ]
  },
  {
   "cell_type": "code",
   "execution_count": 492,
   "metadata": {
    "collapsed": false
   },
   "outputs": [
    {
     "data": {
      "text/plain": [
       "1.6399999999999992"
      ]
     },
     "execution_count": 492,
     "metadata": {},
     "output_type": "execute_result"
    }
   ],
   "source": [
    "vo2.V_IMT"
   ]
  },
  {
   "cell_type": "code",
   "execution_count": 493,
   "metadata": {
    "collapsed": false
   },
   "outputs": [
    {
     "data": {
      "text/plain": [
       "0.8219999999999998"
      ]
     },
     "execution_count": 493,
     "metadata": {},
     "output_type": "execute_result"
    }
   ],
   "source": [
    "vo2.V_MIT"
   ]
  },
  {
   "cell_type": "code",
   "execution_count": 505,
   "metadata": {
    "collapsed": false
   },
   "outputs": [],
   "source": [
    "#vo2_params={\n",
    "#    \"rho_m\":si(\"3e-3 ohm cm\"),\n",
    "#    \"rho_i\":si(\"9500 ohm cm\"),\n",
    "#    \"J_MIT\":si(\"1.37uA/(1um*10um)\"),\n",
    "#    \"J_IMT\":si(\".41 uA/(1um*10um)\"),\n",
    "#    \"v_met\":0,\n",
    "#    \"L\":si(\"235nm\"),\n",
    "#    \"W\":si(\"500um\"),\n",
    "#    \"T\":si(\"10um\")\n",
    "#}\n",
    "vo2_params.update(dict(L=si(\"235nm\"),W=si(\"500um\"),T=si(\".035um\")))\n",
    "vo2=VO2(**vo2_params)\n",
    "\n",
    "VDD=1.3"
   ]
  },
  {
   "cell_type": "code",
   "execution_count": 506,
   "metadata": {
    "collapsed": false
   },
   "outputs": [
    {
     "data": {
      "text/plain": [
       "20000000000.0"
      ]
     },
     "execution_count": 506,
     "metadata": {},
     "output_type": "execute_result"
    }
   ],
   "source": [
    "2e6/1e-4"
   ]
  },
  {
   "cell_type": "code",
   "execution_count": 507,
   "metadata": {
    "collapsed": false
   },
   "outputs": [
    {
     "data": {
      "text/plain": [
       "11714285.714285713"
      ]
     },
     "execution_count": 507,
     "metadata": {},
     "output_type": "execute_result"
    }
   ],
   "source": [
    "vo2_params['J_IMT']"
   ]
  },
  {
   "cell_type": "code",
   "execution_count": 508,
   "metadata": {
    "collapsed": false
   },
   "outputs": [
    {
     "data": {
      "text/plain": [
       "0.41"
      ]
     },
     "execution_count": 508,
     "metadata": {},
     "output_type": "execute_result"
    }
   ],
   "source": [
    "vo2.I_IMT/500e-6"
   ]
  },
  {
   "cell_type": "code",
   "execution_count": 509,
   "metadata": {
    "collapsed": false
   },
   "outputs": [
    {
     "data": {
      "text/plain": [
       "0.005505714285714286"
      ]
     },
     "execution_count": 509,
     "metadata": {},
     "output_type": "execute_result"
    }
   ],
   "source": [
    "vo2.V_IMT"
   ]
  },
  {
   "cell_type": "code",
   "execution_count": 499,
   "metadata": {
    "collapsed": false
   },
   "outputs": [
    {
     "data": {
      "text/plain": [
       "40816.326530612256"
      ]
     },
     "execution_count": 499,
     "metadata": {},
     "output_type": "execute_result"
    }
   ],
   "source": [
    "2e-4/(70e-6*70e-6)"
   ]
  },
  {
   "cell_type": "code",
   "execution_count": 500,
   "metadata": {
    "collapsed": false
   },
   "outputs": [
    {
     "data": {
      "text/plain": [
       "0.35631305675960645"
      ]
     },
     "execution_count": 500,
     "metadata": {},
     "output_type": "execute_result"
    }
   ],
   "source": [
    "appr.Vleft(HyperFET(fet,vo2),VDD)"
   ]
  },
  {
   "cell_type": "code",
   "execution_count": 501,
   "metadata": {
    "collapsed": false
   },
   "outputs": [
    {
     "data": {
      "text/plain": [
       "0.28638207918068215"
      ]
     },
     "execution_count": 501,
     "metadata": {},
     "output_type": "execute_result"
    }
   ],
   "source": [
    "appr.Vright(HyperFET(fet,vo2),VDD)"
   ]
  },
  {
   "cell_type": "code",
   "execution_count": 510,
   "metadata": {
    "collapsed": false
   },
   "outputs": [
    {
     "data": {
      "text/plain": [
       "7142.857142857142"
      ]
     },
     "execution_count": 510,
     "metadata": {},
     "output_type": "execute_result"
    }
   ],
   "source": [
    "1.5/(.42*500e-6)"
   ]
  },
  {
   "cell_type": "code",
   "execution_count": 511,
   "metadata": {
    "collapsed": false
   },
   "outputs": [
    {
     "data": {
      "text/plain": [
       "1428.5714285714287"
      ]
     },
     "execution_count": 511,
     "metadata": {},
     "output_type": "execute_result"
    }
   ],
   "source": [
    "1/(1.4*500e-6)"
   ]
  },
  {
   "cell_type": "code",
   "execution_count": 502,
   "metadata": {
    "collapsed": false
   },
   "outputs": [
    {
     "data": {
      "image/png": "[encoded data removed]",
      "text/plain": [
       "<matplotlib.figure.Figure at 0x7f05390b8b70>"
      ]
     },
     "metadata": {},
     "output_type": "display_data"
    }
   ],
   "source": [
    "fet=None\n",
    "out=HTML()\n",
    "@interact(VT0=FloatSlider(value=.45,min=0,max=1,step=.05,continuous_update=False),\n",
    "          W=FloatSlider(value=500,min=100,max=1000,step=100,continuous_update=False),\n",
    "          Cinv_vxo=FloatSlider(value=6,min=1,max=10,step=1,continuous_update=False),\n",
    "          SS=FloatSlider(value=.065,min=.05,max=.09,step=.005,continuous_update=False),\n",
    "          alpha=FloatSlider(value=2.5,min=0,max=5,step=.5,continuous_update=False),\n",
    "          beta=FloatSlider(value=1.8,min=0,max=4,step=.1,continuous_update=False),\n",
    "          VDD=FloatSlider(value=1.3,min=.3,max=2,step=.05,continuous_update=False),\n",
    "          VDsats=FloatSlider(value=.1,min=.1,max=2,step=.1,continuous_update=False),\n",
    "          delta=FloatSlider(value=.1,min=0,max=.5,step=.05,continuous_update=False),\n",
    "          log10Gleak=FloatSlider(value=-12,min=-14,max=-5,step=1,continuous_update=False)\n",
    "         )\n",
    "def show_hf(VT0,W,Cinv_vxo,SS,alpha,beta,VDsats,VDD,delta,log10Gleak):\n",
    "    global fet\n",
    "    plt.figure(figsize=(12,6))\n",
    "    fet=SCMOSFET(\n",
    "        W=W*1e-6,Cinv_vxo=Cinv_vxo,\n",
    "        VT0=VT0,alpha=alpha,SS=SS,delta=delta,\n",
    "        VDsats=VDsats,beta=beta,Gleak=10**log10Gleak)\n",
    "    \n",
    "    shift=appr.shift(HyperFET(fet,vo2),VDD)\n",
    "    fet2=fet.shifted(shift)\n",
    "    hf2=HyperFET(fet2,vo2)\n",
    "    \n",
    "    VD=np.array(VDD)\n",
    "    VG=np.linspace(0,VDD,500)\n",
    "\n",
    "    plt.subplot(121)\n",
    "    I=np.ravel(fet.ID(VD=VD,VG=VG))\n",
    "    plt.plot(VG,I/fet.W,'r')\n",
    "    \n",
    "    hf=HyperFET(fet,vo2)\n",
    "    If,Ib=[np.ravel(i) for i in hf.I_double(VD=VD,VG=VG)]\n",
    "    plt.plot(VG[~np.isnan(If)],If[~np.isnan(If)]/fet.W,'b')\n",
    "    plt.plot(VG[~np.isnan(Ib)],Ib[~np.isnan(Ib)]/fet.W,'b')\n",
    "    \n",
    "    floor=10**log10Gleak*VD\n",
    "    \n",
    "    plt.yscale('log')\n",
    "    plt.ylim(1e-4,1e1)\n",
    "    plt.xlabel(\"$V_{GS}\\;\\mathrm{[V]}$\")\n",
    "    plt.ylabel(\"$I/W\\;\\mathrm{[mA/mm]}$\")\n",
    "    \n",
    "    \n",
    "    plt.subplot(122)    \n",
    "    plt.plot(VG,I/fet2.W,'r')\n",
    "    If2,Ib2=[np.ravel(i) for i in hf2.I_double(VD=VD,VG=VG)]\n",
    "    plt.plot(VG[~np.isnan(If2)],If2[~np.isnan(If2)]/fet2.W,'b')\n",
    "    plt.plot(VG[~np.isnan(Ib2)],Ib2[~np.isnan(Ib2)]/fet2.W,'b')\n",
    "    \n",
    "    \n",
    "    plt.yscale('log')\n",
    "    plt.ylim(1e-4,1e1)\n",
    "    plt.yticks([])\n",
    "        \n",
    "    #plt.subplot(133)\n",
    "    #plt.plot(VG,I/fet.W,'r')\n",
    "    #plt.plot(VG[~np.isnan(If)],If[~np.isnan(If)]/fet.W,'b')\n",
    "    #plt.plot(VG[~np.isnan(Ib)],Ib[~np.isnan(Ib)]/fet.W,'b')\n",
    "    #plt.xlim(.4,.5)\n",
    "    #plt.ylim(400,600)\n",
    "        \n",
    "    plt.tight_layout()\n",
    "    \n",
    "    out.value=\"Approx shift is {:.2g}mV, which equates the IOFF within {:.2g}%.\"\\\n",
    "    \"  This is expected to increase ION by {:.2g}% and actually increases it by {:.2g}%\"\\\n",
    "    .format(shift*1e3,(If2[0]-I[0])/I[0]*100,appr.shiftedgain(hf,VDD)*100-100,(If2[-1]-I[-1])/I[-1]*100)\n",
    "display(out)"
   ]
  },
  {
   "cell_type": "code",
   "execution_count": null,
   "metadata": {
    "collapsed": true
   },
   "outputs": [],
   "source": [
    "appr."
   ]
  }
 ],
 "metadata": {
  "kernelspec": {
   "display_name": "IPython (Python 3)",
   "language": "python",
   "name": "python3"
  },
  "language_info": {
   "codemirror_mode": {
    "name": "ipython",
    "version": 3
   },
   "file_extension": ".py",
   "mimetype": "text/x-python",
   "name": "python",
   "nbconvert_exporter": "python",
   "pygments_lexer": "ipython3",
   "version": "3.5.1"
  }
 },
 "nbformat": 4,
 "nbformat_minor": 0
}
