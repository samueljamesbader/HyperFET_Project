{
 "cells": [
  {
   "cell_type": "markdown",
   "metadata": {},
   "source": [
    "This notebook reproduces (to rough visual accuracy), Figure 11 of [Frougier 2015]( https://doi.org/10.1109/VLSIT.2016.7573445)"
   ]
  },
  {
   "cell_type": "code",
   "execution_count": 1,
   "metadata": {
    "collapsed": false
   },
   "outputs": [],
   "source": [
    "%matplotlib inline\n",
    "from ipywidgets import interact, FloatSlider, HTML\n",
    "from IPython.display import display\n",
    "import matplotlib.pyplot as plt\n",
    "import matplotlib\n",
    "matplotlib.rc('font',size=18)\n",
    "import numpy as np\n",
    "import warnings\n",
    "\n",
    "\n",
    "from hyperfet.devices import SCMOSFET,VO2,HyperFET\n",
    "import hyperfet.approximations as appr\n",
    "from hyperfet.references import si"
   ]
  },
  {
   "cell_type": "code",
   "execution_count": 5,
   "metadata": {
    "collapsed": false
   },
   "outputs": [],
   "source": [
    "vo2_params={\n",
    "    \"rho_m\":si(\"1e-4 ohm cm\"),\n",
    "    \"rho_i\":si(\"1e1 ohm cm\"),\n",
    "    \"J_MIT\":si(\"10**-2.9 A/(70um)**2\"),\n",
    "    \"J_IMT\":si(\"10**-3.9 A/(70um)**2\"),\n",
    "    \"v_met\":0,\n",
    "    \"L\":si(\"70um\"),\n",
    "    \"W\":si(\"70um\"),\n",
    "    \"T\":si(\"235nm\")\n",
    "}\n",
    "vo2=VO2(**vo2_params)\n",
    "\n",
    "VDD=.3"
   ]
  },
  {
   "cell_type": "code",
   "execution_count": 12,
   "metadata": {
    "collapsed": false
   },
   "outputs": [
    {
     "data": {
      "image/png": "[encoded data removed]",
      "text/plain": [
       "<matplotlib.figure.Figure at 0x7fa0bf215c18>"
      ]
     },
     "metadata": {},
     "output_type": "display_data"
    }
   ],
   "source": [
    "fet=None\n",
    "out=HTML()\n",
    "@interact(VT0=FloatSlider(value=.35,min=0,max=1,step=.05,continuous_update=False),\n",
    "          W=FloatSlider(value=50,min=10,max=100,step=10,continuous_update=False),\n",
    "          Cinv_vxo=FloatSlider(value=3000,min=1000,max=5000,step=400,continuous_update=False),\n",
    "          SS=FloatSlider(value=.065,min=.05,max=.09,step=.005,continuous_update=False),\n",
    "          alpha=FloatSlider(value=2.5,min=0,max=5,step=.5,continuous_update=False),\n",
    "          beta=FloatSlider(value=1.8,min=0,max=4,step=.1,continuous_update=False),\n",
    "          VDD=FloatSlider(value=.3,min=.3,max=1,step=.05,continuous_update=False),\n",
    "          VDsats=FloatSlider(value=.1,min=.1,max=2,step=.1,continuous_update=False),\n",
    "          delta=FloatSlider(value=.1,min=0,max=.5,step=.1,continuous_update=False),\n",
    "          log10Gleak=FloatSlider(value=-12,min=-14,max=-5,step=1,continuous_update=False)\n",
    "         )\n",
    "def show_hf(VT0,W,Cinv_vxo,SS,alpha,beta,VDsats,VDD,delta,log10Gleak):\n",
    "    global fet\n",
    "    plt.figure(figsize=(11.8,4.5))\n",
    "    fet=SCMOSFET(\n",
    "        W=W*1e-9,Cinv_vxo=Cinv_vxo,\n",
    "        VT0=VT0,alpha=alpha,SS=SS,delta=delta,\n",
    "        VDsats=VDsats,beta=beta,Gleak=10**log10Gleak)\n",
    "    \n",
    "    shift=appr.shift(HyperFET(fet,vo2),VDD)\n",
    "    fet2=SCMOSFET(\n",
    "        W=W*1e-9,Cinv_vxo=Cinv_vxo,\n",
    "        VT0=VT0+shift,alpha=alpha,SS=SS,delta=delta,\n",
    "        VDsats=VDsats,beta=beta,Gleak=10**log10Gleak)\n",
    "    hf2=HyperFET(fet2,vo2)\n",
    "    \n",
    "    VD=np.array(VDD)\n",
    "    VG=np.linspace(0,VDD,100)\n",
    "\n",
    "    plt.subplot(131)\n",
    "    I=np.ravel(fet.ID(VD=VD,VG=VG))\n",
    "    plt.plot(VG,I/fet.W,'r')\n",
    "    \n",
    "    hf=HyperFET(fet,vo2)\n",
    "    If,Ib=[np.ravel(i) for i in hf.I_double(VD=VD,VG=VG)]\n",
    "    plt.plot(VG[~np.isnan(If)],If[~np.isnan(If)]/fet.W,'b')\n",
    "    plt.plot(VG[~np.isnan(Ib)],Ib[~np.isnan(Ib)]/fet.W,'b')\n",
    "    \n",
    "    floor=10**log10Gleak*VD\n",
    "    \n",
    "    plt.yscale('log')\n",
    "    plt.ylim(1e-2,5e2)\n",
    "    plt.xlabel(\"$V_{GS}\\;\\mathrm{[V]}$\")\n",
    "    plt.ylabel(\"$I/W\\;\\mathrm{[mA/mm]}$\")\n",
    "    \n",
    "    \n",
    "    plt.subplot(132)    \n",
    "    plt.plot(VG,I/fet2.W,'r')\n",
    "    If2,Ib2=[np.ravel(i) for i in hf2.I_double(VD=VD,VG=VG)]\n",
    "    plt.plot(VG[~np.isnan(If2)],If2[~np.isnan(If2)]/fet2.W,'b')\n",
    "    plt.plot(VG[~np.isnan(Ib2)],Ib2[~np.isnan(Ib2)]/fet2.W,'b')\n",
    "    \n",
    "    \n",
    "    plt.yscale('log')\n",
    "    plt.ylim(1e-2,5e2)\n",
    "    plt.yticks([])\n",
    "        \n",
    "    #plt.subplot(133)\n",
    "    #plt.plot(VG,I/fet.W,'r')\n",
    "    #plt.plot(VG[~np.isnan(If)],If[~np.isnan(If)]/fet.W,'b')\n",
    "    #plt.plot(VG[~np.isnan(Ib)],Ib[~np.isnan(Ib)]/fet.W,'b')\n",
    "    #plt.xlim(.4,.5)\n",
    "    #plt.ylim(400,600)\n",
    "        \n",
    "    #plt.tight_layout()\n",
    "    \n",
    "    out.value=\"Approx shift is {:.2g}mV, which equates the IOFF within {:.2g}%.\"\\\n",
    "    \"  This is expected to increase ION by {:.2g}% and actually increases it by {:.2g}%\"\\\n",
    "    .format(shift*1e3,(If2[0]-I[0])/I[0]*100,appr.shiftedgain(hf,VDD)*100-100,(If2[-1]-I[-1])/I[-1]*100)\n",
    "display(out)"
   ]
  },
  {
   "cell_type": "code",
   "execution_count": null,
   "metadata": {
    "collapsed": true
   },
   "outputs": [],
   "source": []
  }
 ],
 "metadata": {
  "kernelspec": {
   "display_name": "IPython (Python 3)",
   "language": "python",
   "name": "python3"
  },
  "language_info": {
   "codemirror_mode": {
    "name": "ipython",
    "version": 3
   },
   "file_extension": ".py",
   "mimetype": "text/x-python",
   "name": "python",
   "nbconvert_exporter": "python",
   "pygments_lexer": "ipython3",
   "version": "3.5.1"
  }
 },
 "nbformat": 4,
 "nbformat_minor": 0
}
